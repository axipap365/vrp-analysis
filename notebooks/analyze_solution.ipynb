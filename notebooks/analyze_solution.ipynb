{
 "cells": [
  {
   "cell_type": "markdown",
   "metadata": {},
   "source": [
    "# Analyze solution\n",
    "This notebooks provides scripts to analyze specific solution.\n",
    "\n",
    "## Init\n",
    "Change path to relevant problem and solution"
   ]
  },
  {
   "cell_type": "code",
   "execution_count": 1,
   "metadata": {
    "scrolled": true
   },
   "outputs": [],
   "source": [
    "import pandas as pd\n",
    "import matplotlib.pyplot as plt\n",
    "from analyze_solution import *\n",
    "   \n",
    "problem, solution, solution_geo = (get_data(\n",
    "    problem_path = '../experiments/demo/problems/balance.delivery.100.json',\n",
    "    solution_path = '../experiments/demo/out/base_balance.delivery.100/solution_0.json'\n",
    "))"
   ]
  },
  {
   "cell_type": "markdown",
   "metadata": {},
   "source": [
    "## TODO"
   ]
  },
  {
   "cell_type": "markdown",
   "metadata": {},
   "source": []
  },
  {
   "cell_type": "code",
   "execution_count": null,
   "metadata": {},
   "outputs": [],
   "source": []
  },
  {
   "cell_type": "markdown",
   "metadata": {},
   "source": [
    "## TODO problem summary\n",
    "* describe demand, tw length, duration"
   ]
  },
  {
   "cell_type": "markdown",
   "metadata": {},
   "source": [
    "### Problem statistics"
   ]
  },
  {
   "cell_type": "code",
   "execution_count": 2,
   "metadata": {},
   "outputs": [
    {
     "data": {
      "text/html": [
       "<div>\n",
       "<style scoped>\n",
       "    .dataframe tbody tr th:only-of-type {\n",
       "        vertical-align: middle;\n",
       "    }\n",
       "\n",
       "    .dataframe tbody tr th {\n",
       "        vertical-align: top;\n",
       "    }\n",
       "\n",
       "    .dataframe thead th {\n",
       "        text-align: right;\n",
       "    }\n",
       "</style>\n",
       "<table border=\"1\" class=\"dataframe\">\n",
       "  <thead>\n",
       "    <tr style=\"text-align: right;\">\n",
       "      <th></th>\n",
       "      <th>jobs</th>\n",
       "      <th>vehicle types</th>\n",
       "      <th>vehicle profiles</th>\n",
       "      <th>total vehicles</th>\n",
       "      <th>relations</th>\n",
       "    </tr>\n",
       "  </thead>\n",
       "  <tbody>\n",
       "    <tr>\n",
       "      <th>0</th>\n",
       "      <td>100</td>\n",
       "      <td>1</td>\n",
       "      <td>1</td>\n",
       "      <td>5</td>\n",
       "      <td>0</td>\n",
       "    </tr>\n",
       "  </tbody>\n",
       "</table>\n",
       "</div>"
      ],
      "text/plain": [
       "   jobs  vehicle types  vehicle profiles  total vehicles  relations\n",
       "0   100              1                 1               5          0"
      ]
     },
     "execution_count": 2,
     "metadata": {},
     "output_type": "execute_result"
    }
   ],
   "source": [
    "extract_problem_statistics(problem)"
   ]
  },
  {
   "cell_type": "markdown",
   "metadata": {},
   "source": [
    "### Vehicle types"
   ]
  },
  {
   "cell_type": "code",
   "execution_count": 3,
   "metadata": {},
   "outputs": [
    {
     "data": {
      "text/html": [
       "<div>\n",
       "<style scoped>\n",
       "    .dataframe tbody tr th:only-of-type {\n",
       "        vertical-align: middle;\n",
       "    }\n",
       "\n",
       "    .dataframe tbody tr th {\n",
       "        vertical-align: top;\n",
       "    }\n",
       "\n",
       "    .dataframe thead th {\n",
       "        text-align: right;\n",
       "    }\n",
       "</style>\n",
       "<table border=\"1\" class=\"dataframe\">\n",
       "  <thead>\n",
       "    <tr style=\"text-align: right;\">\n",
       "      <th></th>\n",
       "      <th>type</th>\n",
       "      <th>available</th>\n",
       "      <th>capacity</th>\n",
       "      <th>breaks</th>\n",
       "      <th>reloads</th>\n",
       "      <th>start location</th>\n",
       "      <th>start time</th>\n",
       "      <th>end location</th>\n",
       "      <th>end time</th>\n",
       "    </tr>\n",
       "  </thead>\n",
       "  <tbody>\n",
       "    <tr>\n",
       "      <th>0</th>\n",
       "      <td>vehicle</td>\n",
       "      <td>5</td>\n",
       "      <td>[20]</td>\n",
       "      <td>1</td>\n",
       "      <td>0</td>\n",
       "      <td>52.4181,13.4637</td>\n",
       "      <td>2020-05-01T09:00:00.00Z</td>\n",
       "      <td>52.4181,13.4637</td>\n",
       "      <td>2020-05-01T18:00:00.00Z</td>\n",
       "    </tr>\n",
       "  </tbody>\n",
       "</table>\n",
       "</div>"
      ],
      "text/plain": [
       "      type  available capacity  breaks  reloads   start location  \\\n",
       "0  vehicle          5     [20]       1        0  52.4181,13.4637   \n",
       "\n",
       "                start time     end location                 end time  \n",
       "0  2020-05-01T09:00:00.00Z  52.4181,13.4637  2020-05-01T18:00:00.00Z  "
      ]
     },
     "execution_count": 3,
     "metadata": {},
     "output_type": "execute_result"
    }
   ],
   "source": [
    "extract_vehicle_statistics(problem)"
   ]
  },
  {
   "cell_type": "markdown",
   "metadata": {},
   "source": [
    "### Objective functions"
   ]
  },
  {
   "cell_type": "code",
   "execution_count": 4,
   "metadata": {},
   "outputs": [
    {
     "data": {
      "text/html": [
       "<div>\n",
       "<style scoped>\n",
       "    .dataframe tbody tr th:only-of-type {\n",
       "        vertical-align: middle;\n",
       "    }\n",
       "\n",
       "    .dataframe tbody tr th {\n",
       "        vertical-align: top;\n",
       "    }\n",
       "\n",
       "    .dataframe thead th {\n",
       "        text-align: right;\n",
       "    }\n",
       "</style>\n",
       "<table border=\"1\" class=\"dataframe\">\n",
       "  <thead>\n",
       "    <tr style=\"text-align: right;\">\n",
       "      <th></th>\n",
       "      <th>index</th>\n",
       "      <th>type</th>\n",
       "      <th>priority</th>\n",
       "      <th>options.tolerance</th>\n",
       "    </tr>\n",
       "  </thead>\n",
       "  <tbody>\n",
       "    <tr>\n",
       "      <th>0</th>\n",
       "      <td>0</td>\n",
       "      <td>minimize-unassigned</td>\n",
       "      <td>primary</td>\n",
       "      <td>NaN</td>\n",
       "    </tr>\n",
       "    <tr>\n",
       "      <th>1</th>\n",
       "      <td>1</td>\n",
       "      <td>minimize-tours</td>\n",
       "      <td>primary</td>\n",
       "      <td>NaN</td>\n",
       "    </tr>\n",
       "    <tr>\n",
       "      <th>2</th>\n",
       "      <td>0</td>\n",
       "      <td>minimize-cost</td>\n",
       "      <td>secondary</td>\n",
       "      <td>NaN</td>\n",
       "    </tr>\n",
       "    <tr>\n",
       "      <th>3</th>\n",
       "      <td>1</td>\n",
       "      <td>balance-distance</td>\n",
       "      <td>secondary</td>\n",
       "      <td>0.01</td>\n",
       "    </tr>\n",
       "  </tbody>\n",
       "</table>\n",
       "</div>"
      ],
      "text/plain": [
       "   index                 type   priority  options.tolerance\n",
       "0      0  minimize-unassigned    primary                NaN\n",
       "1      1       minimize-tours    primary                NaN\n",
       "2      0        minimize-cost  secondary                NaN\n",
       "3      1     balance-distance  secondary               0.01"
      ]
     },
     "execution_count": 4,
     "metadata": {},
     "output_type": "execute_result"
    }
   ],
   "source": [
    "objectives = extract_problem_objectives(problem)\n",
    "\n",
    "objectives"
   ]
  },
  {
   "cell_type": "markdown",
   "metadata": {},
   "source": [
    "## Solution statistics"
   ]
  },
  {
   "cell_type": "code",
   "execution_count": 5,
   "metadata": {},
   "outputs": [
    {
     "data": {
      "text/html": [
       "<div>\n",
       "<style scoped>\n",
       "    .dataframe tbody tr th:only-of-type {\n",
       "        vertical-align: middle;\n",
       "    }\n",
       "\n",
       "    .dataframe tbody tr th {\n",
       "        vertical-align: top;\n",
       "    }\n",
       "\n",
       "    .dataframe thead th {\n",
       "        text-align: right;\n",
       "    }\n",
       "</style>\n",
       "<table border=\"1\" class=\"dataframe\">\n",
       "  <thead>\n",
       "    <tr style=\"text-align: right;\">\n",
       "      <th></th>\n",
       "      <th>tours</th>\n",
       "      <th>unassigned</th>\n",
       "      <th>cost</th>\n",
       "      <th>distance</th>\n",
       "      <th>duration</th>\n",
       "      <th>driving</th>\n",
       "      <th>serving</th>\n",
       "      <th>waiting</th>\n",
       "      <th>break</th>\n",
       "    </tr>\n",
       "  </thead>\n",
       "  <tbody>\n",
       "    <tr>\n",
       "      <th>0</th>\n",
       "      <td>5</td>\n",
       "      <td>0</td>\n",
       "      <td>691.5798</td>\n",
       "      <td>466574</td>\n",
       "      <td>94653</td>\n",
       "      <td>46653</td>\n",
       "      <td>30000</td>\n",
       "      <td>0</td>\n",
       "      <td>18000</td>\n",
       "    </tr>\n",
       "  </tbody>\n",
       "</table>\n",
       "</div>"
      ],
      "text/plain": [
       "   tours  unassigned      cost  distance  duration  driving  serving  waiting  \\\n",
       "0      5           0  691.5798    466574     94653    46653    30000        0   \n",
       "\n",
       "   break  \n",
       "0  18000  "
      ]
     },
     "execution_count": 5,
     "metadata": {},
     "output_type": "execute_result"
    }
   ],
   "source": [
    "extract_solution_statistics(solution)"
   ]
  },
  {
   "cell_type": "markdown",
   "metadata": {},
   "source": [
    "## Tour statistics\n",
    "Notes:\n",
    "* `max load` assumes one dimensional capacity"
   ]
  },
  {
   "cell_type": "code",
   "execution_count": 6,
   "metadata": {},
   "outputs": [
    {
     "data": {
      "text/html": [
       "<div>\n",
       "<style scoped>\n",
       "    .dataframe tbody tr th:only-of-type {\n",
       "        vertical-align: middle;\n",
       "    }\n",
       "\n",
       "    .dataframe tbody tr th {\n",
       "        vertical-align: top;\n",
       "    }\n",
       "\n",
       "    .dataframe thead th {\n",
       "        text-align: right;\n",
       "    }\n",
       "</style>\n",
       "<table border=\"1\" class=\"dataframe\">\n",
       "  <thead>\n",
       "    <tr style=\"text-align: right;\">\n",
       "      <th></th>\n",
       "      <th>vehicle</th>\n",
       "      <th>type</th>\n",
       "      <th>shift</th>\n",
       "      <th>stops</th>\n",
       "      <th>cost</th>\n",
       "      <th>distance</th>\n",
       "      <th>duration</th>\n",
       "      <th>driving</th>\n",
       "      <th>serving</th>\n",
       "      <th>waiting</th>\n",
       "      <th>break</th>\n",
       "      <th>max load</th>\n",
       "      <th>activities</th>\n",
       "      <th>deliveries</th>\n",
       "      <th>pickups</th>\n",
       "      <th>breaks</th>\n",
       "      <th>reloads</th>\n",
       "      <th>start</th>\n",
       "      <th>finish</th>\n",
       "    </tr>\n",
       "  </thead>\n",
       "  <tbody>\n",
       "    <tr>\n",
       "      <th>0</th>\n",
       "      <td>vehicle_5</td>\n",
       "      <td>vehicle</td>\n",
       "      <td>0</td>\n",
       "      <td>22</td>\n",
       "      <td>135.8664</td>\n",
       "      <td>89807</td>\n",
       "      <td>18581</td>\n",
       "      <td>8981</td>\n",
       "      <td>6000</td>\n",
       "      <td>0</td>\n",
       "      <td>3600</td>\n",
       "      <td>[20]</td>\n",
       "      <td>23</td>\n",
       "      <td>20</td>\n",
       "      <td>0</td>\n",
       "      <td>1</td>\n",
       "      <td>0</td>\n",
       "      <td>2020-05-01T09:00:00Z</td>\n",
       "      <td>2020-05-01T14:09:41Z</td>\n",
       "    </tr>\n",
       "    <tr>\n",
       "      <th>1</th>\n",
       "      <td>vehicle_3</td>\n",
       "      <td>vehicle</td>\n",
       "      <td>0</td>\n",
       "      <td>22</td>\n",
       "      <td>146.4296</td>\n",
       "      <td>104898</td>\n",
       "      <td>20090</td>\n",
       "      <td>10490</td>\n",
       "      <td>6000</td>\n",
       "      <td>0</td>\n",
       "      <td>3600</td>\n",
       "      <td>[20]</td>\n",
       "      <td>23</td>\n",
       "      <td>20</td>\n",
       "      <td>0</td>\n",
       "      <td>1</td>\n",
       "      <td>0</td>\n",
       "      <td>2020-05-01T09:00:00Z</td>\n",
       "      <td>2020-05-01T14:34:50Z</td>\n",
       "    </tr>\n",
       "    <tr>\n",
       "      <th>2</th>\n",
       "      <td>vehicle_2</td>\n",
       "      <td>vehicle</td>\n",
       "      <td>0</td>\n",
       "      <td>22</td>\n",
       "      <td>136.9258</td>\n",
       "      <td>91329</td>\n",
       "      <td>18732</td>\n",
       "      <td>9132</td>\n",
       "      <td>6000</td>\n",
       "      <td>0</td>\n",
       "      <td>3600</td>\n",
       "      <td>[20]</td>\n",
       "      <td>23</td>\n",
       "      <td>20</td>\n",
       "      <td>0</td>\n",
       "      <td>1</td>\n",
       "      <td>0</td>\n",
       "      <td>2020-05-01T09:00:00Z</td>\n",
       "      <td>2020-05-01T14:12:12Z</td>\n",
       "    </tr>\n",
       "    <tr>\n",
       "      <th>3</th>\n",
       "      <td>vehicle_1</td>\n",
       "      <td>vehicle</td>\n",
       "      <td>0</td>\n",
       "      <td>22</td>\n",
       "      <td>136.8222</td>\n",
       "      <td>91186</td>\n",
       "      <td>18717</td>\n",
       "      <td>9117</td>\n",
       "      <td>6000</td>\n",
       "      <td>0</td>\n",
       "      <td>3600</td>\n",
       "      <td>[20]</td>\n",
       "      <td>23</td>\n",
       "      <td>20</td>\n",
       "      <td>0</td>\n",
       "      <td>1</td>\n",
       "      <td>0</td>\n",
       "      <td>2020-05-01T09:00:00Z</td>\n",
       "      <td>2020-05-01T14:11:57Z</td>\n",
       "    </tr>\n",
       "    <tr>\n",
       "      <th>4</th>\n",
       "      <td>vehicle_4</td>\n",
       "      <td>vehicle</td>\n",
       "      <td>0</td>\n",
       "      <td>22</td>\n",
       "      <td>135.5358</td>\n",
       "      <td>89354</td>\n",
       "      <td>18533</td>\n",
       "      <td>8933</td>\n",
       "      <td>6000</td>\n",
       "      <td>0</td>\n",
       "      <td>3600</td>\n",
       "      <td>[20]</td>\n",
       "      <td>23</td>\n",
       "      <td>20</td>\n",
       "      <td>0</td>\n",
       "      <td>1</td>\n",
       "      <td>0</td>\n",
       "      <td>2020-05-01T09:00:00Z</td>\n",
       "      <td>2020-05-01T14:08:53Z</td>\n",
       "    </tr>\n",
       "  </tbody>\n",
       "</table>\n",
       "</div>"
      ],
      "text/plain": [
       "     vehicle     type  shift  stops      cost  distance  duration  driving  \\\n",
       "0  vehicle_5  vehicle      0     22  135.8664     89807     18581     8981   \n",
       "1  vehicle_3  vehicle      0     22  146.4296    104898     20090    10490   \n",
       "2  vehicle_2  vehicle      0     22  136.9258     91329     18732     9132   \n",
       "3  vehicle_1  vehicle      0     22  136.8222     91186     18717     9117   \n",
       "4  vehicle_4  vehicle      0     22  135.5358     89354     18533     8933   \n",
       "\n",
       "   serving  waiting  break max load  activities  deliveries  pickups  breaks  \\\n",
       "0     6000        0   3600     [20]          23          20        0       1   \n",
       "1     6000        0   3600     [20]          23          20        0       1   \n",
       "2     6000        0   3600     [20]          23          20        0       1   \n",
       "3     6000        0   3600     [20]          23          20        0       1   \n",
       "4     6000        0   3600     [20]          23          20        0       1   \n",
       "\n",
       "   reloads                 start                finish  \n",
       "0        0  2020-05-01T09:00:00Z  2020-05-01T14:09:41Z  \n",
       "1        0  2020-05-01T09:00:00Z  2020-05-01T14:34:50Z  \n",
       "2        0  2020-05-01T09:00:00Z  2020-05-01T14:12:12Z  \n",
       "3        0  2020-05-01T09:00:00Z  2020-05-01T14:11:57Z  \n",
       "4        0  2020-05-01T09:00:00Z  2020-05-01T14:08:53Z  "
      ]
     },
     "execution_count": 6,
     "metadata": {},
     "output_type": "execute_result"
    }
   ],
   "source": [
    "tours_statistics = extract_tours_statistic(solution)\n",
    "\n",
    "tours_statistics"
   ]
  },
  {
   "cell_type": "code",
   "execution_count": 7,
   "metadata": {},
   "outputs": [
    {
     "data": {
      "text/html": [
       "<div>\n",
       "<style scoped>\n",
       "    .dataframe tbody tr th:only-of-type {\n",
       "        vertical-align: middle;\n",
       "    }\n",
       "\n",
       "    .dataframe tbody tr th {\n",
       "        vertical-align: top;\n",
       "    }\n",
       "\n",
       "    .dataframe thead th {\n",
       "        text-align: right;\n",
       "    }\n",
       "</style>\n",
       "<table border=\"1\" class=\"dataframe\">\n",
       "  <thead>\n",
       "    <tr style=\"text-align: right;\">\n",
       "      <th></th>\n",
       "      <th>shift</th>\n",
       "      <th>stops</th>\n",
       "      <th>cost</th>\n",
       "      <th>distance</th>\n",
       "      <th>duration</th>\n",
       "      <th>driving</th>\n",
       "      <th>serving</th>\n",
       "      <th>waiting</th>\n",
       "      <th>break</th>\n",
       "      <th>activities</th>\n",
       "      <th>deliveries</th>\n",
       "      <th>pickups</th>\n",
       "      <th>breaks</th>\n",
       "      <th>reloads</th>\n",
       "    </tr>\n",
       "  </thead>\n",
       "  <tbody>\n",
       "    <tr>\n",
       "      <th>count</th>\n",
       "      <td>5.0</td>\n",
       "      <td>5.0</td>\n",
       "      <td>5.000000</td>\n",
       "      <td>5.000000</td>\n",
       "      <td>5.000000</td>\n",
       "      <td>5.000000</td>\n",
       "      <td>5.0</td>\n",
       "      <td>5.0</td>\n",
       "      <td>5.0</td>\n",
       "      <td>5.0</td>\n",
       "      <td>5.0</td>\n",
       "      <td>5.0</td>\n",
       "      <td>5.0</td>\n",
       "      <td>5.0</td>\n",
       "    </tr>\n",
       "    <tr>\n",
       "      <th>mean</th>\n",
       "      <td>0.0</td>\n",
       "      <td>22.0</td>\n",
       "      <td>138.315960</td>\n",
       "      <td>93314.800000</td>\n",
       "      <td>18930.600000</td>\n",
       "      <td>9330.600000</td>\n",
       "      <td>6000.0</td>\n",
       "      <td>0.0</td>\n",
       "      <td>3600.0</td>\n",
       "      <td>23.0</td>\n",
       "      <td>20.0</td>\n",
       "      <td>0.0</td>\n",
       "      <td>1.0</td>\n",
       "      <td>0.0</td>\n",
       "    </tr>\n",
       "    <tr>\n",
       "      <th>std</th>\n",
       "      <td>0.0</td>\n",
       "      <td>0.0</td>\n",
       "      <td>4.575059</td>\n",
       "      <td>6531.429989</td>\n",
       "      <td>653.754771</td>\n",
       "      <td>653.754771</td>\n",
       "      <td>0.0</td>\n",
       "      <td>0.0</td>\n",
       "      <td>0.0</td>\n",
       "      <td>0.0</td>\n",
       "      <td>0.0</td>\n",
       "      <td>0.0</td>\n",
       "      <td>0.0</td>\n",
       "      <td>0.0</td>\n",
       "    </tr>\n",
       "    <tr>\n",
       "      <th>min</th>\n",
       "      <td>0.0</td>\n",
       "      <td>22.0</td>\n",
       "      <td>135.535800</td>\n",
       "      <td>89354.000000</td>\n",
       "      <td>18533.000000</td>\n",
       "      <td>8933.000000</td>\n",
       "      <td>6000.0</td>\n",
       "      <td>0.0</td>\n",
       "      <td>3600.0</td>\n",
       "      <td>23.0</td>\n",
       "      <td>20.0</td>\n",
       "      <td>0.0</td>\n",
       "      <td>1.0</td>\n",
       "      <td>0.0</td>\n",
       "    </tr>\n",
       "    <tr>\n",
       "      <th>25%</th>\n",
       "      <td>0.0</td>\n",
       "      <td>22.0</td>\n",
       "      <td>135.866400</td>\n",
       "      <td>89807.000000</td>\n",
       "      <td>18581.000000</td>\n",
       "      <td>8981.000000</td>\n",
       "      <td>6000.0</td>\n",
       "      <td>0.0</td>\n",
       "      <td>3600.0</td>\n",
       "      <td>23.0</td>\n",
       "      <td>20.0</td>\n",
       "      <td>0.0</td>\n",
       "      <td>1.0</td>\n",
       "      <td>0.0</td>\n",
       "    </tr>\n",
       "    <tr>\n",
       "      <th>50%</th>\n",
       "      <td>0.0</td>\n",
       "      <td>22.0</td>\n",
       "      <td>136.822200</td>\n",
       "      <td>91186.000000</td>\n",
       "      <td>18717.000000</td>\n",
       "      <td>9117.000000</td>\n",
       "      <td>6000.0</td>\n",
       "      <td>0.0</td>\n",
       "      <td>3600.0</td>\n",
       "      <td>23.0</td>\n",
       "      <td>20.0</td>\n",
       "      <td>0.0</td>\n",
       "      <td>1.0</td>\n",
       "      <td>0.0</td>\n",
       "    </tr>\n",
       "    <tr>\n",
       "      <th>75%</th>\n",
       "      <td>0.0</td>\n",
       "      <td>22.0</td>\n",
       "      <td>136.925800</td>\n",
       "      <td>91329.000000</td>\n",
       "      <td>18732.000000</td>\n",
       "      <td>9132.000000</td>\n",
       "      <td>6000.0</td>\n",
       "      <td>0.0</td>\n",
       "      <td>3600.0</td>\n",
       "      <td>23.0</td>\n",
       "      <td>20.0</td>\n",
       "      <td>0.0</td>\n",
       "      <td>1.0</td>\n",
       "      <td>0.0</td>\n",
       "    </tr>\n",
       "    <tr>\n",
       "      <th>max</th>\n",
       "      <td>0.0</td>\n",
       "      <td>22.0</td>\n",
       "      <td>146.429600</td>\n",
       "      <td>104898.000000</td>\n",
       "      <td>20090.000000</td>\n",
       "      <td>10490.000000</td>\n",
       "      <td>6000.0</td>\n",
       "      <td>0.0</td>\n",
       "      <td>3600.0</td>\n",
       "      <td>23.0</td>\n",
       "      <td>20.0</td>\n",
       "      <td>0.0</td>\n",
       "      <td>1.0</td>\n",
       "      <td>0.0</td>\n",
       "    </tr>\n",
       "  </tbody>\n",
       "</table>\n",
       "</div>"
      ],
      "text/plain": [
       "       shift  stops        cost       distance      duration       driving  \\\n",
       "count    5.0    5.0    5.000000       5.000000      5.000000      5.000000   \n",
       "mean     0.0   22.0  138.315960   93314.800000  18930.600000   9330.600000   \n",
       "std      0.0    0.0    4.575059    6531.429989    653.754771    653.754771   \n",
       "min      0.0   22.0  135.535800   89354.000000  18533.000000   8933.000000   \n",
       "25%      0.0   22.0  135.866400   89807.000000  18581.000000   8981.000000   \n",
       "50%      0.0   22.0  136.822200   91186.000000  18717.000000   9117.000000   \n",
       "75%      0.0   22.0  136.925800   91329.000000  18732.000000   9132.000000   \n",
       "max      0.0   22.0  146.429600  104898.000000  20090.000000  10490.000000   \n",
       "\n",
       "       serving  waiting   break  activities  deliveries  pickups  breaks  \\\n",
       "count      5.0      5.0     5.0         5.0         5.0      5.0     5.0   \n",
       "mean    6000.0      0.0  3600.0        23.0        20.0      0.0     1.0   \n",
       "std        0.0      0.0     0.0         0.0         0.0      0.0     0.0   \n",
       "min     6000.0      0.0  3600.0        23.0        20.0      0.0     1.0   \n",
       "25%     6000.0      0.0  3600.0        23.0        20.0      0.0     1.0   \n",
       "50%     6000.0      0.0  3600.0        23.0        20.0      0.0     1.0   \n",
       "75%     6000.0      0.0  3600.0        23.0        20.0      0.0     1.0   \n",
       "max     6000.0      0.0  3600.0        23.0        20.0      0.0     1.0   \n",
       "\n",
       "       reloads  \n",
       "count      5.0  \n",
       "mean       0.0  \n",
       "std        0.0  \n",
       "min        0.0  \n",
       "25%        0.0  \n",
       "50%        0.0  \n",
       "75%        0.0  \n",
       "max        0.0  "
      ]
     },
     "execution_count": 7,
     "metadata": {},
     "output_type": "execute_result"
    }
   ],
   "source": [
    "tours_statistics.describe()"
   ]
  },
  {
   "cell_type": "markdown",
   "metadata": {},
   "source": [
    "## Algorithm performance\n",
    "\n",
    "To collect algorithm performance data, you need to run the solver with metrics enabled.\n",
    "\n",
    "### overall statistic"
   ]
  },
  {
   "cell_type": "code",
   "execution_count": 8,
   "metadata": {},
   "outputs": [
    {
     "data": {
      "text/html": [
       "<div>\n",
       "<style scoped>\n",
       "    .dataframe tbody tr th:only-of-type {\n",
       "        vertical-align: middle;\n",
       "    }\n",
       "\n",
       "    .dataframe tbody tr th {\n",
       "        vertical-align: top;\n",
       "    }\n",
       "\n",
       "    .dataframe thead th {\n",
       "        text-align: right;\n",
       "    }\n",
       "</style>\n",
       "<table border=\"1\" class=\"dataframe\">\n",
       "  <thead>\n",
       "    <tr style=\"text-align: right;\">\n",
       "      <th></th>\n",
       "      <th>duration (sec)</th>\n",
       "      <th>generations</th>\n",
       "      <th>speed (gen/sec)</th>\n",
       "    </tr>\n",
       "  </thead>\n",
       "  <tbody>\n",
       "    <tr>\n",
       "      <th>0</th>\n",
       "      <td>3</td>\n",
       "      <td>3001</td>\n",
       "      <td>793.616589</td>\n",
       "    </tr>\n",
       "  </tbody>\n",
       "</table>\n",
       "</div>"
      ],
      "text/plain": [
       "   duration (sec)  generations  speed (gen/sec)\n",
       "0               3         3001       793.616589"
      ]
     },
     "execution_count": 8,
     "metadata": {},
     "output_type": "execute_result"
    }
   ],
   "source": [
    "(pd.json_normalize(solution['extras']['metrics']).drop('evolution', axis=1)\n",
    " .rename(columns={'duration': 'duration (sec)', 'speed': 'speed (gen/sec)'}))"
   ]
  },
  {
   "cell_type": "markdown",
   "metadata": {},
   "source": [
    "### cost change over time/generation\n",
    "\n",
    "* change `timestamp` to `number` in order to have generation number instead of timestamp."
   ]
  },
  {
   "cell_type": "code",
   "execution_count": 9,
   "metadata": {},
   "outputs": [
    {
     "data": {
      "image/png": "[encoded data removed]",
      "text/plain": [
       "<Figure size 1152x1152 with 4 Axes>"
      ]
     },
     "metadata": {
      "needs_background": "light"
     },
     "output_type": "display_data"
    }
   ],
   "source": [
    "x_column = 'timestamp'\n",
    "\n",
    "df = extract_evolution_metrics(solution)\n",
    "\n",
    "fitness_columns = [column for column in df.columns.values if column.startswith('fitness_')]\n",
    "plot_len = len(fitness_columns)\n",
    "fig, axs = plt.subplots(plot_len, figsize=(16, plot_len * 4) , sharex=True)\n",
    "\n",
    "for idx, fitness_column in enumerate(fitness_columns):\n",
    "    axs[idx].plot(df[x_column], df[fitness_column])\n",
    "    axs[idx].set(ylabel = objectives.type[idx])"
   ]
  },
  {
   "cell_type": "markdown",
   "metadata": {},
   "source": [
    "## Geojson Visualization"
   ]
  },
  {
   "cell_type": "code",
   "execution_count": 10,
   "metadata": {},
   "outputs": [
    {
     "data": {
      "image/png": "[encoded data removed]",
      "text/plain": [
       "<Figure size 1152x576 with 1 Axes>"
      ]
     },
     "metadata": {
      "needs_background": "light"
     },
     "output_type": "display_data"
    }
   ],
   "source": [
    "if not solution_geo.empty:\n",
    "    plot = solution_geo.plot(cmap='Accent', markersize=128, figsize=(16,8))"
   ]
  }
 ],
 "metadata": {
  "kernelspec": {
   "display_name": "Python 3",
   "language": "python",
   "name": "python3"
  },
  "language_info": {
   "codemirror_mode": {
    "name": "ipython",
    "version": 3
   },
   "file_extension": ".py",
   "mimetype": "text/x-python",
   "name": "python",
   "nbconvert_exporter": "python",
   "pygments_lexer": "ipython3",
   "version": "3.8.2"
  }
 },
 "nbformat": 4,
 "nbformat_minor": 4
}
